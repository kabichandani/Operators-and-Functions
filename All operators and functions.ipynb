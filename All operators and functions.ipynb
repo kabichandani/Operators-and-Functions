{
 "cells": [
  {
   "cell_type": "code",
   "execution_count": 8,
   "id": "299abf25",
   "metadata": {},
   "outputs": [],
   "source": [
    "a='Home'"
   ]
  },
  {
   "cell_type": "code",
   "execution_count": 9,
   "id": "d93e05df",
   "metadata": {},
   "outputs": [
    {
     "name": "stdout",
     "output_type": "stream",
     "text": [
      "HomeHomeHome\n"
     ]
    }
   ],
   "source": [
    "print((a+\"\" \"\")*3)"
   ]
  },
  {
   "cell_type": "code",
   "execution_count": 10,
   "id": "3b033c8c",
   "metadata": {},
   "outputs": [
    {
     "name": "stdout",
     "output_type": "stream",
     "text": [
      "HomeHomeHome\n"
     ]
    }
   ],
   "source": [
    "print(a*3)"
   ]
  },
  {
   "cell_type": "code",
   "execution_count": 11,
   "id": "099603e3",
   "metadata": {},
   "outputs": [
    {
     "name": "stdout",
     "output_type": "stream",
     "text": [
      "HomeHomeHome\n"
     ]
    }
   ],
   "source": [
    "print((a+\"\"   \"\")*3)"
   ]
  },
  {
   "cell_type": "code",
   "execution_count": 12,
   "id": "df78e90e",
   "metadata": {},
   "outputs": [
    {
     "name": "stdout",
     "output_type": "stream",
     "text": [
      "Home  Home  Home  \n"
     ]
    }
   ],
   "source": [
    "print((a+\" \" \" \")*3)"
   ]
  },
  {
   "cell_type": "code",
   "execution_count": 13,
   "id": "3bb87c22",
   "metadata": {},
   "outputs": [
    {
     "name": "stdout",
     "output_type": "stream",
     "text": [
      "Home33\n"
     ]
    }
   ],
   "source": [
    "print(a+str(3)*2)"
   ]
  },
  {
   "cell_type": "code",
   "execution_count": 14,
   "id": "ccee94bc",
   "metadata": {},
   "outputs": [
    {
     "name": "stdout",
     "output_type": "stream",
     "text": [
      "Homeee\n"
     ]
    }
   ],
   "source": [
    "print(a+a[3]*2)"
   ]
  },
  {
   "cell_type": "code",
   "execution_count": 15,
   "id": "b0e3ef08",
   "metadata": {},
   "outputs": [
    {
     "data": {
      "text/plain": [
       "1"
      ]
     },
     "execution_count": 15,
     "metadata": {},
     "output_type": "execute_result"
    }
   ],
   "source": [
    "22 % 3"
   ]
  },
  {
   "cell_type": "code",
   "execution_count": 16,
   "id": "48a14dcc",
   "metadata": {},
   "outputs": [
    {
     "data": {
      "text/plain": [
       "3"
      ]
     },
     "execution_count": 16,
     "metadata": {},
     "output_type": "execute_result"
    }
   ],
   "source": [
    "3*1**3"
   ]
  },
  {
   "cell_type": "code",
   "execution_count": 17,
   "id": "0fa5875c",
   "metadata": {},
   "outputs": [],
   "source": [
    "num1=10\n",
    "num2=3"
   ]
  },
  {
   "cell_type": "code",
   "execution_count": 18,
   "id": "264d8aa5",
   "metadata": {},
   "outputs": [],
   "source": [
    "a = num1 /5"
   ]
  },
  {
   "cell_type": "code",
   "execution_count": 19,
   "id": "983f3fc7",
   "metadata": {},
   "outputs": [
    {
     "data": {
      "text/plain": [
       "2.0"
      ]
     },
     "execution_count": 19,
     "metadata": {},
     "output_type": "execute_result"
    }
   ],
   "source": [
    "a"
   ]
  },
  {
   "cell_type": "code",
   "execution_count": 20,
   "id": "b3b5e3ed",
   "metadata": {},
   "outputs": [
    {
     "data": {
      "text/plain": [
       "False"
      ]
     },
     "execution_count": 20,
     "metadata": {},
     "output_type": "execute_result"
    }
   ],
   "source": [
    "a>=num2"
   ]
  },
  {
   "cell_type": "code",
   "execution_count": 21,
   "id": "9933ee92",
   "metadata": {},
   "outputs": [],
   "source": [
    "import math\n",
    "b= math.floor(num2/2)"
   ]
  },
  {
   "cell_type": "code",
   "execution_count": 22,
   "id": "ebb502b2",
   "metadata": {},
   "outputs": [
    {
     "data": {
      "text/plain": [
       "1"
      ]
     },
     "execution_count": 22,
     "metadata": {},
     "output_type": "execute_result"
    }
   ],
   "source": [
    "b"
   ]
  },
  {
   "cell_type": "code",
   "execution_count": 23,
   "id": "aecc6a4a",
   "metadata": {},
   "outputs": [
    {
     "data": {
      "text/plain": [
       "1"
      ]
     },
     "execution_count": 23,
     "metadata": {},
     "output_type": "execute_result"
    }
   ],
   "source": [
    "num1 % num2"
   ]
  },
  {
   "cell_type": "code",
   "execution_count": 24,
   "id": "bd75bc45",
   "metadata": {},
   "outputs": [
    {
     "data": {
      "text/plain": [
       "20"
      ]
     },
     "execution_count": 24,
     "metadata": {},
     "output_type": "execute_result"
    }
   ],
   "source": [
    "max((num1 *2) , (num2 *2))"
   ]
  },
  {
   "cell_type": "code",
   "execution_count": 25,
   "id": "81cef30d",
   "metadata": {},
   "outputs": [
    {
     "data": {
      "text/plain": [
       "True"
      ]
     },
     "execution_count": 25,
     "metadata": {},
     "output_type": "execute_result"
    }
   ],
   "source": [
    "(num1 *2) >= (num2 *2)"
   ]
  },
  {
   "cell_type": "code",
   "execution_count": 26,
   "id": "bc457e7c",
   "metadata": {},
   "outputs": [
    {
     "name": "stdout",
     "output_type": "stream",
     "text": [
      "True\n"
     ]
    }
   ],
   "source": [
    "a, b = 10,10 \n",
    "print(a>=b)   \n"
   ]
  },
  {
   "cell_type": "code",
   "execution_count": 27,
   "id": "29c8a7f8",
   "metadata": {},
   "outputs": [
    {
     "name": "stdout",
     "output_type": "stream",
     "text": [
      "True\n"
     ]
    }
   ],
   "source": [
    "print(2 < 3 < 4 < 5)"
   ]
  },
  {
   "cell_type": "code",
   "execution_count": 29,
   "id": "2e88e1bc",
   "metadata": {},
   "outputs": [
    {
     "ename": "ZeroDivisionError",
     "evalue": "division by zero",
     "output_type": "error",
     "traceback": [
      "\u001b[1;31m---------------------------------------------------------------------------\u001b[0m",
      "\u001b[1;31mZeroDivisionError\u001b[0m                         Traceback (most recent call last)",
      "\u001b[1;32m<ipython-input-29-25d26e06bd22>\u001b[0m in \u001b[0;36m<module>\u001b[1;34m\u001b[0m\n\u001b[1;32m----> 1\u001b[1;33m \u001b[1;36m50\u001b[0m\u001b[1;33m/\u001b[0m\u001b[1;33m(\u001b[0m\u001b[1;36m5\u001b[0m\u001b[1;33m-\u001b[0m\u001b[1;33m(\u001b[0m\u001b[1;36m3\u001b[0m\u001b[1;33m+\u001b[0m\u001b[1;36m2\u001b[0m\u001b[1;33m)\u001b[0m\u001b[1;33m)\u001b[0m \u001b[1;32mor\u001b[0m \u001b[1;36m3\u001b[0m\u001b[1;33m<\u001b[0m\u001b[1;36m5\u001b[0m\u001b[1;33m\u001b[0m\u001b[1;33m\u001b[0m\u001b[0m\n\u001b[0m",
      "\u001b[1;31mZeroDivisionError\u001b[0m: division by zero"
     ]
    }
   ],
   "source": [
    "50/(5-(3+2)) or 3<5"
   ]
  },
  {
   "cell_type": "code",
   "execution_count": 44,
   "id": "13b3eb34",
   "metadata": {},
   "outputs": [
    {
     "data": {
      "text/plain": [
       "True"
      ]
     },
     "execution_count": 44,
     "metadata": {},
     "output_type": "execute_result"
    }
   ],
   "source": [
    "3<5 or 50/(5-(3+2))"
   ]
  },
  {
   "cell_type": "code",
   "execution_count": 45,
   "id": "8c91c02c",
   "metadata": {},
   "outputs": [
    {
     "data": {
      "text/plain": [
       "False"
      ]
     },
     "execution_count": 45,
     "metadata": {},
     "output_type": "execute_result"
    }
   ],
   "source": [
    "10>5 and 7>12 or not 18>3\n"
   ]
  },
  {
   "cell_type": "code",
   "execution_count": 50,
   "id": "7a787f0e",
   "metadata": {},
   "outputs": [
    {
     "name": "stdout",
     "output_type": "stream",
     "text": [
      "\n"
     ]
    }
   ],
   "source": [
    "print(\"Match\"*False) "
   ]
  },
  {
   "cell_type": "code",
   "execution_count": 49,
   "id": "7bf108f9",
   "metadata": {},
   "outputs": [
    {
     "name": "stdout",
     "output_type": "stream",
     "text": [
      "Match\n"
     ]
    }
   ],
   "source": [
    "print(\"Match\"*True)  "
   ]
  },
  {
   "cell_type": "code",
   "execution_count": 51,
   "id": "4179289e",
   "metadata": {},
   "outputs": [
    {
     "name": "stdout",
     "output_type": "stream",
     "text": [
      "True\n"
     ]
    }
   ],
   "source": [
    "print(1==True) "
   ]
  },
  {
   "cell_type": "code",
   "execution_count": 52,
   "id": "d9335486",
   "metadata": {},
   "outputs": [
    {
     "name": "stdout",
     "output_type": "stream",
     "text": [
      "True\n"
     ]
    }
   ],
   "source": [
    "print(0==False)"
   ]
  },
  {
   "cell_type": "code",
   "execution_count": 53,
   "id": "1583895d",
   "metadata": {},
   "outputs": [
    {
     "name": "stdout",
     "output_type": "stream",
     "text": [
      "True\n"
     ]
    }
   ],
   "source": [
    "\tprint(10==10.0)"
   ]
  },
  {
   "cell_type": "code",
   "execution_count": 54,
   "id": "260c30d3",
   "metadata": {},
   "outputs": [
    {
     "ename": "NameError",
     "evalue": "name 'num' is not defined",
     "output_type": "error",
     "traceback": [
      "\u001b[1;31m---------------------------------------------------------------------------\u001b[0m",
      "\u001b[1;31mNameError\u001b[0m                                 Traceback (most recent call last)",
      "\u001b[1;32m<ipython-input-54-2b54bcb2f020>\u001b[0m in \u001b[0;36m<module>\u001b[1;34m\u001b[0m\n\u001b[1;32m----> 1\u001b[1;33m \u001b[0mnum\u001b[0m \u001b[1;33m>=\u001b[0m\u001b[1;36m6000\u001b[0m \u001b[1;32mand\u001b[0m \u001b[0mnum\u001b[0m\u001b[1;33m<=\u001b[0m\u001b[1;36m10000\u001b[0m\u001b[1;33m\u001b[0m\u001b[1;33m\u001b[0m\u001b[0m\n\u001b[0m",
      "\u001b[1;31mNameError\u001b[0m: name 'num' is not defined"
     ]
    }
   ],
   "source": [
    "num >=6000 and num<=10000"
   ]
  },
  {
   "cell_type": "code",
   "execution_count": 56,
   "id": "31c2f658",
   "metadata": {},
   "outputs": [
    {
     "name": "stdout",
     "output_type": "stream",
     "text": [
      "Enter a number8000\n"
     ]
    },
    {
     "data": {
      "text/plain": [
       "True"
      ]
     },
     "execution_count": 56,
     "metadata": {},
     "output_type": "execute_result"
    }
   ],
   "source": [
    "x = int(input(\"Enter a number\"))\n",
    "x >= 6000 and x<=10000\n"
   ]
  },
  {
   "cell_type": "code",
   "execution_count": 57,
   "id": "7fd55cba",
   "metadata": {},
   "outputs": [
    {
     "name": "stdout",
     "output_type": "stream",
     "text": [
      "Enter a number37\n"
     ]
    },
    {
     "data": {
      "text/plain": [
       "2"
      ]
     },
     "execution_count": 57,
     "metadata": {},
     "output_type": "execute_result"
    }
   ],
   "source": [
    "x = int(input(\"Enter a number\"))\n",
    "x % 7 or x.endswith(\"7\") "
   ]
  },
  {
   "cell_type": "code",
   "execution_count": 60,
   "id": "0f6398b6",
   "metadata": {},
   "outputs": [
    {
     "name": "stdout",
     "output_type": "stream",
     "text": [
      "Enter a number21\n"
     ]
    },
    {
     "data": {
      "text/plain": [
       "False"
      ]
     },
     "execution_count": 60,
     "metadata": {},
     "output_type": "execute_result"
    }
   ],
   "source": [
    "x = int(input(\"Enter a number\"))\n",
    "x % 7 or str(x).endswith(\"7\") "
   ]
  },
  {
   "cell_type": "code",
   "execution_count": 61,
   "id": "3057fce9",
   "metadata": {},
   "outputs": [
    {
     "name": "stdout",
     "output_type": "stream",
     "text": [
      "Enter a number57\n"
     ]
    },
    {
     "data": {
      "text/plain": [
       "1"
      ]
     },
     "execution_count": 61,
     "metadata": {},
     "output_type": "execute_result"
    }
   ],
   "source": [
    "x = int(input(\"Enter a number\"))\n",
    "x % 7 or str(x).endswith(\"7\") "
   ]
  },
  {
   "cell_type": "code",
   "execution_count": 65,
   "id": "6dba793b",
   "metadata": {},
   "outputs": [
    {
     "name": "stdout",
     "output_type": "stream",
     "text": [
      "Enter a number28\n"
     ]
    },
    {
     "data": {
      "text/plain": [
       "False"
      ]
     },
     "execution_count": 65,
     "metadata": {},
     "output_type": "execute_result"
    }
   ],
   "source": [
    "x = int(input(\"Enter a number\"))\n",
    "x % 7 or str(x).endswith(\"7\") "
   ]
  },
  {
   "cell_type": "code",
   "execution_count": 66,
   "id": "f3e81240",
   "metadata": {},
   "outputs": [],
   "source": [
    "a=[5,6,7]\n",
    "b=[5,6,7]"
   ]
  },
  {
   "cell_type": "code",
   "execution_count": 68,
   "id": "0ca52429",
   "metadata": {},
   "outputs": [
    {
     "data": {
      "text/plain": [
       "False"
      ]
     },
     "execution_count": 68,
     "metadata": {},
     "output_type": "execute_result"
    }
   ],
   "source": [
    "a is b "
   ]
  },
  {
   "cell_type": "code",
   "execution_count": 71,
   "id": "9ee73271",
   "metadata": {},
   "outputs": [
    {
     "data": {
      "text/plain": [
       "True"
      ]
     },
     "execution_count": 71,
     "metadata": {},
     "output_type": "execute_result"
    }
   ],
   "source": [
    "a== b "
   ]
  },
  {
   "cell_type": "code",
   "execution_count": 72,
   "id": "1d8b323a",
   "metadata": {},
   "outputs": [
    {
     "name": "stdout",
     "output_type": "stream",
     "text": [
      "4\n"
     ]
    }
   ],
   "source": [
    "print(5 & 6)"
   ]
  },
  {
   "cell_type": "code",
   "execution_count": 73,
   "id": "67137db8",
   "metadata": {},
   "outputs": [
    {
     "name": "stdout",
     "output_type": "stream",
     "text": [
      "\n"
     ]
    }
   ],
   "source": [
    "print('' and \"good work\")"
   ]
  },
  {
   "cell_type": "code",
   "execution_count": 74,
   "id": "31655429",
   "metadata": {},
   "outputs": [
    {
     "name": "stdout",
     "output_type": "stream",
     "text": [
      "good work\n"
     ]
    }
   ],
   "source": [
    "print('1' and \"good work\")"
   ]
  },
  {
   "cell_type": "code",
   "execution_count": 75,
   "id": "169a900d",
   "metadata": {},
   "outputs": [
    {
     "name": "stdout",
     "output_type": "stream",
     "text": [
      "good work\n"
     ]
    }
   ],
   "source": [
    "print('good' and \"good work\")"
   ]
  },
  {
   "cell_type": "code",
   "execution_count": 76,
   "id": "010362fb",
   "metadata": {},
   "outputs": [
    {
     "name": "stdout",
     "output_type": "stream",
     "text": [
      "good work\n"
     ]
    }
   ],
   "source": [
    "print('0' and \"good work\")"
   ]
  },
  {
   "cell_type": "code",
   "execution_count": 78,
   "id": "4b7c6d91",
   "metadata": {},
   "outputs": [
    {
     "name": "stdout",
     "output_type": "stream",
     "text": [
      "good work\n"
     ]
    }
   ],
   "source": [
    "print(\"good work\" and \"good work\")"
   ]
  },
  {
   "cell_type": "code",
   "execution_count": 79,
   "id": "0478a74c",
   "metadata": {},
   "outputs": [
    {
     "name": "stdout",
     "output_type": "stream",
     "text": [
      "\n"
     ]
    }
   ],
   "source": [
    "print(\"you are doing good\" and \"\")"
   ]
  },
  {
   "cell_type": "code",
   "execution_count": 80,
   "id": "03b3f9c7",
   "metadata": {},
   "outputs": [
    {
     "name": "stdout",
     "output_type": "stream",
     "text": [
      "[]\n"
     ]
    }
   ],
   "source": [
    "print([] and \"you are pythonic\")"
   ]
  },
  {
   "cell_type": "code",
   "execution_count": 81,
   "id": "fd338a4a",
   "metadata": {},
   "outputs": [
    {
     "name": "stdout",
     "output_type": "stream",
     "text": [
      "False\n"
     ]
    }
   ],
   "source": [
    "print(True and False)"
   ]
  },
  {
   "cell_type": "code",
   "execution_count": 82,
   "id": "71acfe0d",
   "metadata": {},
   "outputs": [
    {
     "name": "stdout",
     "output_type": "stream",
     "text": [
      "0\n"
     ]
    }
   ],
   "source": [
    "print(1 and 0)"
   ]
  },
  {
   "cell_type": "code",
   "execution_count": 83,
   "id": "11ce228a",
   "metadata": {},
   "outputs": [
    {
     "name": "stdout",
     "output_type": "stream",
     "text": [
      "5\n"
     ]
    }
   ],
   "source": [
    "print(5 or 6)"
   ]
  },
  {
   "cell_type": "code",
   "execution_count": 84,
   "id": "8ea9538a",
   "metadata": {},
   "outputs": [
    {
     "name": "stdout",
     "output_type": "stream",
     "text": [
      "Cool\n"
     ]
    }
   ],
   "source": [
    "print('' or \"Cool\")"
   ]
  },
  {
   "cell_type": "code",
   "execution_count": 85,
   "id": "f745cec8",
   "metadata": {},
   "outputs": [
    {
     "name": "stdout",
     "output_type": "stream",
     "text": [
      "you are in right direction.\n"
     ]
    }
   ],
   "source": [
    "print(\"you are in right direction.\" or \"Data scientist coming soon\")"
   ]
  },
  {
   "cell_type": "code",
   "execution_count": 86,
   "id": "ccb78dae",
   "metadata": {},
   "outputs": [
    {
     "name": "stdout",
     "output_type": "stream",
     "text": [
      "True\n"
     ]
    }
   ],
   "source": [
    "print(True or False)"
   ]
  },
  {
   "cell_type": "code",
   "execution_count": 91,
   "id": "3d1a5248",
   "metadata": {},
   "outputs": [
    {
     "name": "stdout",
     "output_type": "stream",
     "text": [
      "1\n"
     ]
    }
   ],
   "source": [
    "print(1 or 0)"
   ]
  },
  {
   "cell_type": "markdown",
   "id": "5cb23698",
   "metadata": {},
   "source": [
    "# IF/ELSE STATEMENTS"
   ]
  },
  {
   "cell_type": "code",
   "execution_count": 33,
   "id": "6a83079b",
   "metadata": {},
   "outputs": [
    {
     "name": "stdout",
     "output_type": "stream",
     "text": [
      "Im right\n",
      "bye\n"
     ]
    }
   ],
   "source": [
    " if True:\n",
    "        print(\"Im right\")\n",
    "        print(\"bye\")"
   ]
  },
  {
   "cell_type": "code",
   "execution_count": 34,
   "id": "b0cb2a0a",
   "metadata": {},
   "outputs": [
    {
     "name": "stdout",
     "output_type": "stream",
     "text": [
      "bye\n"
     ]
    }
   ],
   "source": [
    " if False:\n",
    "        print(\"Im right\")\n",
    "print(\"bye\")"
   ]
  },
  {
   "cell_type": "code",
   "execution_count": 36,
   "id": "50e5c5d5",
   "metadata": {},
   "outputs": [
    {
     "name": "stdout",
     "output_type": "stream",
     "text": [
      "bye\n"
     ]
    }
   ],
   "source": [
    "x=3\n",
    "r= x % 2\n",
    "\n",
    "if r==0:\n",
    "    print(\"Even\")\n",
    "print(\"bye\")\n",
    "    "
   ]
  },
  {
   "cell_type": "code",
   "execution_count": 43,
   "id": "3f2108eb",
   "metadata": {},
   "outputs": [
    {
     "name": "stdout",
     "output_type": "stream",
     "text": [
      "odd\n",
      "bye\n"
     ]
    }
   ],
   "source": [
    "x=7  \n",
    "r= x % 2\n",
    "\n",
    "if r==0:\n",
    "    print(\"Even\")           ##Nested Intentation\n",
    "    if x>5:\n",
    "        print(\"Great\")\n",
    "else:\n",
    "    print(\"odd\")\n",
    "    \n",
    "print(\"bye\")"
   ]
  },
  {
   "cell_type": "code",
   "execution_count": 44,
   "id": "61392d28",
   "metadata": {},
   "outputs": [
    {
     "name": "stdout",
     "output_type": "stream",
     "text": [
      "Even\n",
      "bye\n"
     ]
    }
   ],
   "source": [
    "x=2  \n",
    "r= x % 2\n",
    "\n",
    "if r==0:\n",
    "    print(\"Even\")\n",
    "    if x>5:\n",
    "        print(\"Great\")\n",
    "else:\n",
    "    print(\"odd\")\n",
    "    \n",
    "print(\"bye\")"
   ]
  },
  {
   "cell_type": "code",
   "execution_count": 64,
   "id": "5bea546e",
   "metadata": {},
   "outputs": [
    {
     "name": "stdout",
     "output_type": "stream",
     "text": [
      "Wromg Input\n"
     ]
    }
   ],
   "source": [
    "x=5\n",
    "\n",
    "if x==1:\n",
    "    print(\"one\")\n",
    "    \n",
    "elif x==2:\n",
    "    print(\"Two\")\n",
    "    \n",
    "elif x==3:\n",
    "    print(\"Three\")\n",
    "    \n",
    "else:\n",
    "    print(\"Wromg Input\")"
   ]
  },
  {
   "cell_type": "code",
   "execution_count": 65,
   "id": "056f152c",
   "metadata": {},
   "outputs": [
    {
     "name": "stdout",
     "output_type": "stream",
     "text": [
      "it is warm\n",
      "drink water\n",
      "done\n"
     ]
    }
   ],
   "source": [
    "temperature = 35\n",
    "if temperature > 30:\n",
    "    print(\"it is warm\")\n",
    "    print(\"drink water\")\n",
    "print(\"done\")"
   ]
  },
  {
   "cell_type": "code",
   "execution_count": 66,
   "id": "ae295bf3",
   "metadata": {},
   "outputs": [
    {
     "name": "stdout",
     "output_type": "stream",
     "text": [
      "done\n"
     ]
    }
   ],
   "source": [
    "temperature = 15\n",
    "if temperature > 30:\n",
    "    print(\"it is warm\")\n",
    "    print(\"drink water\")\n",
    "print(\"done\")"
   ]
  },
  {
   "cell_type": "code",
   "execution_count": 68,
   "id": "6af0d615",
   "metadata": {},
   "outputs": [
    {
     "name": "stdout",
     "output_type": "stream",
     "text": [
      "Eligible\n"
     ]
    }
   ],
   "source": [
    "age = 22\n",
    "if age >=18:\n",
    "    message = \"Eligible\"\n",
    "else:\n",
    "    message = \"Not Eligible\"\n",
    "    \n",
    "print(message)\n"
   ]
  },
  {
   "cell_type": "code",
   "execution_count": 70,
   "id": "ad62e1ab",
   "metadata": {},
   "outputs": [
    {
     "name": "stdout",
     "output_type": "stream",
     "text": [
      "Not eligible\n"
     ]
    }
   ],
   "source": [
    "age = 12    #short form of above code\n",
    "message = \"eligible\" if age>=18 else \"Not eligible\"\n",
    "print(message)"
   ]
  },
  {
   "cell_type": "markdown",
   "id": "ccaead9c",
   "metadata": {},
   "source": [
    "# Membership operator"
   ]
  },
  {
   "cell_type": "code",
   "execution_count": 50,
   "id": "a0c6a48d",
   "metadata": {},
   "outputs": [],
   "source": [
    "str1 = \"I have a lazy dog\""
   ]
  },
  {
   "cell_type": "code",
   "execution_count": 51,
   "id": "5938419c",
   "metadata": {},
   "outputs": [
    {
     "data": {
      "text/plain": [
       "'I have a lazy dog'"
      ]
     },
     "execution_count": 51,
     "metadata": {},
     "output_type": "execute_result"
    }
   ],
   "source": [
    "str1"
   ]
  },
  {
   "cell_type": "code",
   "execution_count": 56,
   "id": "5e8739c5",
   "metadata": {},
   "outputs": [
    {
     "data": {
      "text/plain": [
       "True"
      ]
     },
     "execution_count": 56,
     "metadata": {},
     "output_type": "execute_result"
    }
   ],
   "source": [
    "\"dog\" in str1"
   ]
  },
  {
   "cell_type": "code",
   "execution_count": 54,
   "id": "a25d3598",
   "metadata": {},
   "outputs": [
    {
     "data": {
      "text/plain": [
       "False"
      ]
     },
     "execution_count": 54,
     "metadata": {},
     "output_type": "execute_result"
    }
   ],
   "source": [
    "'lion' in str1"
   ]
  },
  {
   "cell_type": "code",
   "execution_count": 57,
   "id": "264f68e2",
   "metadata": {},
   "outputs": [],
   "source": [
    "mylist = [1,3,19,32,48,77]"
   ]
  },
  {
   "cell_type": "code",
   "execution_count": 58,
   "id": "787a3166",
   "metadata": {},
   "outputs": [
    {
     "data": {
      "text/plain": [
       "False"
      ]
     },
     "execution_count": 58,
     "metadata": {},
     "output_type": "execute_result"
    }
   ],
   "source": [
    "65 in mylist"
   ]
  },
  {
   "cell_type": "code",
   "execution_count": 59,
   "id": "81ca3e8e",
   "metadata": {},
   "outputs": [
    {
     "data": {
      "text/plain": [
       "True"
      ]
     },
     "execution_count": 59,
     "metadata": {},
     "output_type": "execute_result"
    }
   ],
   "source": [
    "19 in mylist"
   ]
  },
  {
   "cell_type": "markdown",
   "id": "4467d04a",
   "metadata": {},
   "source": [
    "# Identity Operators"
   ]
  },
  {
   "cell_type": "code",
   "execution_count": 60,
   "id": "44ebeafe",
   "metadata": {},
   "outputs": [],
   "source": [
    "#Compare memory locations of value telling us if the two datapoints have same values as well as same datatype"
   ]
  },
  {
   "cell_type": "code",
   "execution_count": 62,
   "id": "8f42d59e",
   "metadata": {},
   "outputs": [
    {
     "data": {
      "text/plain": [
       "False"
      ]
     },
     "execution_count": 62,
     "metadata": {},
     "output_type": "execute_result"
    }
   ],
   "source": [
    "a=42\n",
    "b='42'\n",
    "a is b   #checks if values and datatype is same"
   ]
  },
  {
   "cell_type": "code",
   "execution_count": 63,
   "id": "cfe7dfee",
   "metadata": {},
   "outputs": [
    {
     "data": {
      "text/plain": [
       "True"
      ]
     },
     "execution_count": 63,
     "metadata": {},
     "output_type": "execute_result"
    }
   ],
   "source": [
    "c = 42\n",
    "a is c"
   ]
  },
  {
   "cell_type": "markdown",
   "id": "9f18d455",
   "metadata": {},
   "source": [
    "# Logical Operators"
   ]
  },
  {
   "cell_type": "code",
   "execution_count": 84,
   "id": "fd06593c",
   "metadata": {},
   "outputs": [],
   "source": [
    "a == True\n"
   ]
  },
  {
   "cell_type": "code",
   "execution_count": 88,
   "id": "2476c2aa",
   "metadata": {},
   "outputs": [
    {
     "name": "stdout",
     "output_type": "stream",
     "text": [
      "Eligible\n"
     ]
    }
   ],
   "source": [
    "if a == True:\n",
    "    print(\"Eligible\")"
   ]
  },
  {
   "cell_type": "code",
   "execution_count": 92,
   "id": "273674d4",
   "metadata": {},
   "outputs": [
    {
     "name": "stdout",
     "output_type": "stream",
     "text": [
      "Eligible\n"
     ]
    }
   ],
   "source": [
    "high_income = True\n",
    "good_credit = True\n",
    "if high_income and good_credit:\n",
    "    print(\"Eligible\")"
   ]
  },
  {
   "cell_type": "code",
   "execution_count": 93,
   "id": "048b1ef1",
   "metadata": {},
   "outputs": [
    {
     "name": "stdout",
     "output_type": "stream",
     "text": [
      "Eligible\n"
     ]
    }
   ],
   "source": [
    "high_income = True\n",
    "good_credit = True\n",
    "if high_income and good_credit:\n",
    "    print(\"Eligible\")\n",
    "else:\n",
    "    print(\"not Eligible\")"
   ]
  },
  {
   "cell_type": "code",
   "execution_count": 98,
   "id": "15ffea14",
   "metadata": {},
   "outputs": [
    {
     "name": "stdout",
     "output_type": "stream",
     "text": [
      "Not Eligible\n"
     ]
    }
   ],
   "source": [
    "high_income = False\n",
    "good_credit = True\n",
    "if high_income and good_credit:\n",
    "    print(\"Eligible\")\n",
    "else:\n",
    "    print(\"Not Eligible\")"
   ]
  },
  {
   "cell_type": "code",
   "execution_count": 99,
   "id": "11fd27b6",
   "metadata": {},
   "outputs": [
    {
     "name": "stdout",
     "output_type": "stream",
     "text": [
      "Eligible\n"
     ]
    }
   ],
   "source": [
    "high_income = False\n",
    "good_credit = True\n",
    "if high_income or good_credit:\n",
    "    print(\"Eligible\")\n",
    "else:\n",
    "    print(\"Not Eligible\")"
   ]
  },
  {
   "cell_type": "code",
   "execution_count": 100,
   "id": "6c659724",
   "metadata": {},
   "outputs": [
    {
     "name": "stdout",
     "output_type": "stream",
     "text": [
      "Not Eligible\n"
     ]
    }
   ],
   "source": [
    "high_income = False\n",
    "good_credit = True\n",
    "student = True\n",
    "\n",
    "if not student:\n",
    "    print(\"Eligible\")\n",
    "else:\n",
    "    print(\"Not Eligible\")"
   ]
  },
  {
   "cell_type": "code",
   "execution_count": 101,
   "id": "d0414204",
   "metadata": {},
   "outputs": [
    {
     "name": "stdout",
     "output_type": "stream",
     "text": [
      "Eligible\n"
     ]
    }
   ],
   "source": [
    "high_income = False\n",
    "good_credit = True\n",
    "student = False\n",
    "\n",
    "if not student:\n",
    "    print(\"Eligible\")\n",
    "else:\n",
    "    print(\"Not Eligible\")"
   ]
  },
  {
   "cell_type": "code",
   "execution_count": 103,
   "id": "a57c8b43",
   "metadata": {},
   "outputs": [
    {
     "name": "stdout",
     "output_type": "stream",
     "text": [
      "Eligible\n"
     ]
    }
   ],
   "source": [
    "high_income = True\n",
    "good_credit = True\n",
    "student = False\n",
    "if (high_income or good_credit) and not student:\n",
    "    print(\"Eligible\")\n",
    "else:\n",
    "    print(\"not Eligible\")"
   ]
  },
  {
   "cell_type": "code",
   "execution_count": 105,
   "id": "040c9a48",
   "metadata": {},
   "outputs": [
    {
     "name": "stdout",
     "output_type": "stream",
     "text": [
      "not Eligible\n"
     ]
    }
   ],
   "source": [
    "high_income = False\n",
    "good_credit = True\n",
    "student = False                 # here if the first operator is false, it wont even run the other code nad directly give not eligible while using an 'and' operator\n",
    "if (high_income and good_credit) and not student:\n",
    "    print(\"Eligible\")\n",
    "else:\n",
    "    print(\"not Eligible\")"
   ]
  },
  {
   "cell_type": "code",
   "execution_count": 106,
   "id": "92c13253",
   "metadata": {},
   "outputs": [
    {
     "name": "stdout",
     "output_type": "stream",
     "text": [
      "Eligible\n"
     ]
    }
   ],
   "source": [
    "high_income = False\n",
    "good_credit = True\n",
    "student = False                 # here if any operator is true, it wont even run the other code nad directly give eligible while using an 'or' operator\n",
    "if (high_income or good_credit) or not student:\n",
    "    print(\"Eligible\")\n",
    "else:\n",
    "    print(\"not Eligible\")"
   ]
  },
  {
   "cell_type": "markdown",
   "id": "a34f8e83",
   "metadata": {},
   "source": [
    "## Comparison Operator"
   ]
  },
  {
   "cell_type": "code",
   "execution_count": 120,
   "id": "9472905e",
   "metadata": {},
   "outputs": [
    {
     "name": "stdout",
     "output_type": "stream",
     "text": [
      "Eligible\n"
     ]
    }
   ],
   "source": [
    "# age should be between 18 and 65\n",
    "age = 22\n",
    "if 18 <= age < 65:\n",
    "        print(\"Eligible\")\n"
   ]
  },
  {
   "cell_type": "markdown",
   "id": "19c987ec",
   "metadata": {},
   "source": [
    "## While Loop"
   ]
  },
  {
   "cell_type": "code",
   "execution_count": 121,
   "id": "524c251a",
   "metadata": {},
   "outputs": [
    {
     "name": "stdout",
     "output_type": "stream",
     "text": [
      "Telusko\n",
      "Telusko\n",
      "Telusko\n",
      "Telusko\n",
      "Telusko\n"
     ]
    }
   ],
   "source": [
    "i=1\n",
    "while i<=5:     \n",
    "    print(\"Telusko\")\n",
    "    i= i+1  #increment\n",
    "    "
   ]
  },
  {
   "cell_type": "code",
   "execution_count": 124,
   "id": "e47450cb",
   "metadata": {},
   "outputs": [
    {
     "name": "stdout",
     "output_type": "stream",
     "text": [
      "Telusko\n",
      "Telusko\n",
      "Telusko\n",
      "Telusko\n",
      "Telusko\n"
     ]
    }
   ],
   "source": [
    "i=5\n",
    "while i>=1:\n",
    "    print(\"Telusko\")\n",
    "    i= i-1  #decrement\n",
    "    "
   ]
  },
  {
   "cell_type": "code",
   "execution_count": 125,
   "id": "8a61d4c8",
   "metadata": {},
   "outputs": [
    {
     "name": "stdout",
     "output_type": "stream",
     "text": [
      "Telusko 5\n",
      "Telusko 4\n",
      "Telusko 3\n",
      "Telusko 2\n",
      "Telusko 1\n"
     ]
    }
   ],
   "source": [
    "i=5\n",
    "while i>=1:\n",
    "    print(\"Telusko\", i)\n",
    "    i= i-1  #decrement"
   ]
  },
  {
   "cell_type": "code",
   "execution_count": 137,
   "id": "476fc9c0",
   "metadata": {},
   "outputs": [
    {
     "name": "stdout",
     "output_type": "stream",
     "text": [
      "Telusko\n",
      "Telusko\n",
      "Telusko\n",
      "Telusko\n",
      "Telusko\n",
      "Rocks\n",
      "Rocks\n",
      "Rocks\n",
      "Rocks\n"
     ]
    }
   ],
   "source": [
    "i=5\n",
    "j=1\n",
    "while i<=1:\n",
    "    print(\"Telusko\") \n",
    "    i= i-1\n",
    "while j<=4:\n",
    "    print(\"Rocks\")\n",
    "    j= j+1\n"
   ]
  },
  {
   "cell_type": "code",
   "execution_count": 152,
   "id": "fcebf8ce",
   "metadata": {},
   "outputs": [
    {
     "name": "stdout",
     "output_type": "stream",
     "text": [
      "Telusko \n",
      "Telusko \n",
      "Telusko \n",
      "Telusko \n",
      "Telusko \n",
      "Rocks \n",
      "Rocks \n",
      "Rocks \n",
      "Rocks \n"
     ]
    }
   ],
   "source": [
    "i=1\n",
    "while i<=5:\n",
    "    print(\"Telusko\", end = \" \")\n",
    "    i= i+1\n",
    "    print()\n",
    "    j=1\n",
    "while j<=4:\n",
    "    print(\"Rocks\", end = \" \")\n",
    "    j= j+1\n",
    "    \n",
    "    print()"
   ]
  },
  {
   "cell_type": "markdown",
   "id": "85c0837f",
   "metadata": {},
   "source": [
    "# For Loop"
   ]
  },
  {
   "cell_type": "code",
   "execution_count": 154,
   "id": "f963fba3",
   "metadata": {},
   "outputs": [
    {
     "name": "stdout",
     "output_type": "stream",
     "text": [
      "navin\n",
      "65\n",
      "2.5\n"
     ]
    }
   ],
   "source": [
    "x = ['navin', 65, 2.5]\n",
    "\n",
    "for i in x:  \n",
    "    print(i)   "
   ]
  },
  {
   "cell_type": "code",
   "execution_count": 1,
   "id": "178dca68",
   "metadata": {},
   "outputs": [
    {
     "name": "stdout",
     "output_type": "stream",
     "text": [
      "0\n",
      "1\n",
      "2\n",
      "3\n",
      "4\n",
      "5\n",
      "6\n",
      "7\n",
      "8\n",
      "9\n"
     ]
    }
   ],
   "source": [
    "for i in range(10):  \n",
    "    print(i)   "
   ]
  },
  {
   "cell_type": "code",
   "execution_count": 2,
   "id": "672a7e0f",
   "metadata": {},
   "outputs": [
    {
     "name": "stdout",
     "output_type": "stream",
     "text": [
      "11\n",
      "12\n",
      "13\n",
      "14\n",
      "15\n",
      "16\n",
      "17\n",
      "18\n",
      "19\n",
      "20\n"
     ]
    }
   ],
   "source": [
    "for i in range(11,21,1):   #starting point, ending point, no of iterations\n",
    "    print(i)   "
   ]
  },
  {
   "cell_type": "code",
   "execution_count": 3,
   "id": "45f7518b",
   "metadata": {},
   "outputs": [
    {
     "name": "stdout",
     "output_type": "stream",
     "text": [
      "11\n",
      "13\n",
      "15\n",
      "17\n",
      "19\n"
     ]
    }
   ],
   "source": [
    "for i in range(11,21,2):   #starting point, ending point, no of iterations\n",
    "    print(i)   "
   ]
  },
  {
   "cell_type": "code",
   "execution_count": 4,
   "id": "42044c94",
   "metadata": {},
   "outputs": [],
   "source": [
    "for i in range(20,11):   #it will give us nothing as range always goes in ascending order\n",
    "    print(i)   "
   ]
  },
  {
   "cell_type": "code",
   "execution_count": 5,
   "id": "63ae499e",
   "metadata": {},
   "outputs": [
    {
     "name": "stdout",
     "output_type": "stream",
     "text": [
      "20\n",
      "19\n",
      "18\n",
      "17\n",
      "16\n",
      "15\n",
      "14\n",
      "13\n",
      "12\n"
     ]
    }
   ],
   "source": [
    "for i in range(20,11,-1):   #-1 to go in reverse\n",
    "    print(i)   "
   ]
  },
  {
   "cell_type": "code",
   "execution_count": 14,
   "id": "86d13f7f",
   "metadata": {},
   "outputs": [
    {
     "name": "stdout",
     "output_type": "stream",
     "text": [
      "1\n",
      "2\n",
      "3\n",
      "4\n",
      "6\n",
      "7\n",
      "8\n",
      "9\n",
      "11\n",
      "12\n",
      "13\n",
      "14\n",
      "16\n",
      "17\n",
      "18\n",
      "19\n"
     ]
    }
   ],
   "source": [
    "for i in range(1,21):\n",
    "    if (i % 5) != 0:\n",
    "        print (i)"
   ]
  },
  {
   "cell_type": "markdown",
   "id": "5bce10f4",
   "metadata": {},
   "source": [
    "# BITWISE OPERATORS"
   ]
  },
  {
   "cell_type": "code",
   "execution_count": 15,
   "id": "87436c79",
   "metadata": {},
   "outputs": [
    {
     "data": {
      "text/plain": [
       "-13"
      ]
     },
     "execution_count": 15,
     "metadata": {},
     "output_type": "execute_result"
    }
   ],
   "source": [
    "~12  #tilde operator , -13 is a complement of 12"
   ]
  },
  {
   "cell_type": "code",
   "execution_count": 16,
   "id": "0cc02606",
   "metadata": {},
   "outputs": [
    {
     "data": {
      "text/plain": [
       "-42"
      ]
     },
     "execution_count": 16,
     "metadata": {},
     "output_type": "execute_result"
    }
   ],
   "source": [
    "~41"
   ]
  },
  {
   "cell_type": "code",
   "execution_count": 17,
   "id": "35952436",
   "metadata": {},
   "outputs": [
    {
     "data": {
      "text/plain": [
       "11"
      ]
     },
     "execution_count": 17,
     "metadata": {},
     "output_type": "execute_result"
    }
   ],
   "source": [
    "~-12"
   ]
  },
  {
   "cell_type": "code",
   "execution_count": 18,
   "id": "98a413bc",
   "metadata": {},
   "outputs": [
    {
     "data": {
      "text/plain": [
       "12"
      ]
     },
     "execution_count": 18,
     "metadata": {},
     "output_type": "execute_result"
    }
   ],
   "source": [
    "12 & 13  #Bitwise And operator, if both are 1 then only 1"
   ]
  },
  {
   "cell_type": "code",
   "execution_count": 19,
   "id": "9b51d51b",
   "metadata": {},
   "outputs": [
    {
     "data": {
      "text/plain": [
       "13"
      ]
     },
     "execution_count": 19,
     "metadata": {},
     "output_type": "execute_result"
    }
   ],
   "source": [
    "12 | 13 #Bitwise OR Operator, if any one of them is 1 then 1"
   ]
  },
  {
   "cell_type": "code",
   "execution_count": 20,
   "id": "b8a30e71",
   "metadata": {},
   "outputs": [
    {
     "data": {
      "text/plain": [
       "24"
      ]
     },
     "execution_count": 20,
     "metadata": {},
     "output_type": "execute_result"
    }
   ],
   "source": [
    "25 & 30"
   ]
  },
  {
   "cell_type": "code",
   "execution_count": 21,
   "id": "c80339c1",
   "metadata": {},
   "outputs": [
    {
     "data": {
      "text/plain": [
       "1"
      ]
     },
     "execution_count": 21,
     "metadata": {},
     "output_type": "execute_result"
    }
   ],
   "source": [
    "12 ^ 13  #XOR opeartor. if both are same them 0 else 1"
   ]
  },
  {
   "cell_type": "code",
   "execution_count": 22,
   "id": "039c4c67",
   "metadata": {},
   "outputs": [
    {
     "data": {
      "text/plain": [
       "20"
      ]
     },
     "execution_count": 22,
     "metadata": {},
     "output_type": "execute_result"
    }
   ],
   "source": [
    "25 ^ 13"
   ]
  },
  {
   "cell_type": "code",
   "execution_count": 23,
   "id": "43cddabe",
   "metadata": {},
   "outputs": [
    {
     "data": {
      "text/plain": [
       "40"
      ]
     },
     "execution_count": 23,
     "metadata": {},
     "output_type": "execute_result"
    }
   ],
   "source": [
    "10 << 2 #left shift operator, shiting 10 by 2 bits to the left"
   ]
  },
  {
   "cell_type": "code",
   "execution_count": 24,
   "id": "4b18ada2",
   "metadata": {},
   "outputs": [
    {
     "data": {
      "text/plain": [
       "2"
      ]
     },
     "execution_count": 24,
     "metadata": {},
     "output_type": "execute_result"
    }
   ],
   "source": [
    "10>>2 #Right shift operator, shifting 10 by 2 bits to the right"
   ]
  },
  {
   "cell_type": "markdown",
   "id": "f96131c0",
   "metadata": {},
   "source": [
    "# Kwargs"
   ]
  },
  {
   "cell_type": "code",
   "execution_count": 41,
   "id": "4a6a470d",
   "metadata": {},
   "outputs": [],
   "source": [
    "def person (name, **data) "
   ]
  },
  {
   "cell_type": "code",
   "execution_count": 42,
   "id": "f8d705c6",
   "metadata": {},
   "outputs": [
    {
     "name": "stdout",
     "output_type": "stream",
     "text": [
      "navin\n",
      "{'age': 28, 'city': 'Mumbai', 'mob': 4703653}\n"
     ]
    }
   ],
   "source": [
    "    person ('navin', age = 28, city = 'Mumbai', mob = 4703653)"
   ]
  },
  {
   "cell_type": "code",
   "execution_count": 35,
   "id": "26cdb635",
   "metadata": {},
   "outputs": [],
   "source": [
    "def person (name, **data):  #double star it means your passing multiple arguments with the help of keywords\n",
    "    print(name)\n",
    "    for i, j in data.items():  #to print key and value pair\n",
    "        print(i,j)\n",
    "    "
   ]
  },
  {
   "cell_type": "code",
   "execution_count": 36,
   "id": "8b178eef",
   "metadata": {},
   "outputs": [
    {
     "name": "stdout",
     "output_type": "stream",
     "text": [
      "navin\n",
      "age 28\n",
      "city Mumbai\n",
      "mob 4703653\n"
     ]
    }
   ],
   "source": [
    "    person ('navin', age = 28, city = 'Mumbai', mob = 4703653)"
   ]
  },
  {
   "cell_type": "markdown",
   "id": "36db7276",
   "metadata": {},
   "source": [
    "# Global Vs Local Variable"
   ]
  },
  {
   "cell_type": "code",
   "execution_count": 59,
   "id": "c75ed321",
   "metadata": {},
   "outputs": [],
   "source": [
    "a=10\n",
    "def something():\n",
    "    a=15\n",
    "    b=8\n",
    "    print(a)"
   ]
  },
  {
   "cell_type": "code",
   "execution_count": 60,
   "id": "5ac68487",
   "metadata": {},
   "outputs": [
    {
     "name": "stdout",
     "output_type": "stream",
     "text": [
      "10\n"
     ]
    }
   ],
   "source": [
    "print(a)"
   ]
  },
  {
   "cell_type": "code",
   "execution_count": 70,
   "id": "edd22f05",
   "metadata": {},
   "outputs": [
    {
     "name": "stdout",
     "output_type": "stream",
     "text": [
      "in function 15\n",
      "outside 10\n"
     ]
    }
   ],
   "source": [
    "a=10\n",
    "def something():\n",
    "    a=15\n",
    "    print(\"in function\", a)\n",
    "something()\n",
    "print(\"outside\",a)"
   ]
  },
  {
   "cell_type": "code",
   "execution_count": 71,
   "id": "bae3639d",
   "metadata": {},
   "outputs": [
    {
     "name": "stdout",
     "output_type": "stream",
     "text": [
      "in function 15\n",
      "outside 10\n"
     ]
    }
   ],
   "source": [
    "a=10\n",
    "def something():\n",
    "    a=15\n",
    "    print(\"in function\", a)\n",
    "something()\n",
    "print(\"outside\", a)\n"
   ]
  },
  {
   "cell_type": "code",
   "execution_count": 72,
   "id": "f5e6fa89",
   "metadata": {},
   "outputs": [
    {
     "name": "stdout",
     "output_type": "stream",
     "text": [
      "in function 10\n",
      "outside 10\n"
     ]
    }
   ],
   "source": [
    "a=10\n",
    "def something():\n",
    "    print(\"in function\", a)  #we van access gloval variable as local variable\n",
    "something()\n",
    "print(\"outside\", a)\n"
   ]
  },
  {
   "cell_type": "code",
   "execution_count": 73,
   "id": "f3d6d233",
   "metadata": {},
   "outputs": [
    {
     "name": "stdout",
     "output_type": "stream",
     "text": [
      "in function 15\n",
      "outside 15\n"
     ]
    }
   ],
   "source": [
    "a=10\n",
    "def something():\n",
    "    global a  # here we are letting python know that we want to change the global variable to 15\n",
    "    a=15\n",
    "    print(\"in function\", a)\n",
    "something()\n",
    "print(\"outside\", a)"
   ]
  },
  {
   "cell_type": "code",
   "execution_count": 74,
   "id": "e5036d5f",
   "metadata": {},
   "outputs": [
    {
     "name": "stdout",
     "output_type": "stream",
     "text": [
      "140705837492304\n",
      "in function 9\n",
      "outside 9\n"
     ]
    }
   ],
   "source": [
    "a=10\n",
    "print(id(a))\n",
    "def something():\n",
    "  \n",
    "    x= globals() ['a']\n",
    "    print(\"in function\", a)\n",
    "something()\n",
    "print(\"outside\", a)"
   ]
  },
  {
   "cell_type": "markdown",
   "id": "a3b870d7",
   "metadata": {},
   "source": [
    "# Lamda"
   ]
  },
  {
   "cell_type": "code",
   "execution_count": 30,
   "id": "176e3d2c",
   "metadata": {},
   "outputs": [
    {
     "name": "stdout",
     "output_type": "stream",
     "text": [
      "25\n"
     ]
    }
   ],
   "source": [
    "def square (a):\n",
    "    return a*a\n",
    "\n",
    "result = square(5)\n",
    "print(result)"
   ]
  },
  {
   "cell_type": "code",
   "execution_count": 31,
   "id": "60f5ee36",
   "metadata": {},
   "outputs": [
    {
     "data": {
      "text/plain": [
       "25"
      ]
     },
     "execution_count": 31,
     "metadata": {},
     "output_type": "execute_result"
    }
   ],
   "source": [
    "square(5)"
   ]
  },
  {
   "cell_type": "code",
   "execution_count": 32,
   "id": "ef199b6b",
   "metadata": {},
   "outputs": [
    {
     "name": "stdout",
     "output_type": "stream",
     "text": [
      "25\n"
     ]
    }
   ],
   "source": [
    "f=lambda a:a*a  #functions are objects in python\n",
    "\n",
    "result = f(5)\n",
    "print(result)"
   ]
  },
  {
   "cell_type": "code",
   "execution_count": 33,
   "id": "a542672d",
   "metadata": {},
   "outputs": [
    {
     "name": "stdout",
     "output_type": "stream",
     "text": [
      "11\n"
     ]
    }
   ],
   "source": [
    "f=lambda a,b:a+b  #defining a function with the help of lambda and it is an anonymous finction i.e it does not have a name\n",
    "\n",
    "result = f(5,6)\n",
    "print(result)"
   ]
  },
  {
   "cell_type": "code",
   "execution_count": 34,
   "id": "ba64f1b4",
   "metadata": {},
   "outputs": [
    {
     "name": "stdout",
     "output_type": "stream",
     "text": [
      "[2, 6, 8, 4, 6, 2]\n"
     ]
    }
   ],
   "source": [
    "def is_even(n):\n",
    "    return n%2==0\n",
    "nums = [3,2,6,8,4,6,2,9]\n",
    "\n",
    "evens = list(filter(is_even,nums))  # filter will give u a list of sequence, is_even is not an in build function, so need to define the function\n",
    "print(evens)"
   ]
  },
  {
   "cell_type": "code",
   "execution_count": 35,
   "id": "59563468",
   "metadata": {},
   "outputs": [
    {
     "name": "stdout",
     "output_type": "stream",
     "text": [
      "[2, 6, 8, 4, 6, 2]\n"
     ]
    }
   ],
   "source": [
    "nums = [3,2,6,8,4,6,2,9]\n",
    "\n",
    "evens = list(filter(lambda n:n%2==0,nums))  # reduce the no of lines using lambda\n",
    "print(evens)  #thus lambda can take any no of arguments, and return 1 expression "
   ]
  },
  {
   "cell_type": "markdown",
   "id": "ca79807a",
   "metadata": {},
   "source": [
    "# Filter Map Reduce  "
   ]
  },
  {
   "cell_type": "code",
   "execution_count": 36,
   "id": "38d4da7e",
   "metadata": {},
   "outputs": [
    {
     "name": "stdout",
     "output_type": "stream",
     "text": [
      "[4, 12, 16, 8, 12, 4]\n"
     ]
    }
   ],
   "source": [
    "#Want to double the no of even numbers received\n",
    "\n",
    "nums = [3,2,6,8,4,6,2,9]\n",
    "\n",
    "evens = list(filter(lambda n:n%2==0,nums))\n",
    "\n",
    "doubles = list(map(lambda n: n*2,evens))  #map takes a function and an iterable. so we are using lambda function and evens as iterable\n",
    "\n",
    "print(doubles)"
   ]
  },
  {
   "cell_type": "code",
   "execution_count": 39,
   "id": "b44c187d",
   "metadata": {},
   "outputs": [
    {
     "name": "stdout",
     "output_type": "stream",
     "text": [
      "56\n"
     ]
    }
   ],
   "source": [
    "#we want to reduce the values, instead of having multiple values, we need 1 value, add all of the above values\n",
    "\n",
    "from functools import reduce\n",
    "\n",
    "def add_all(a,b):\n",
    "    return a+b\n",
    "\n",
    "nums = [3,2,6,8,4,6,2,9]\n",
    "\n",
    "evens = list(filter(lambda n:n%2==0,nums))\n",
    "\n",
    "doubles = list(map(lambda n: n*2,evens))  #map takes a function and an iterable. so we are using lambda function and evens as iterable\n",
    "\n",
    "sum = reduce(add_all,doubles)       #reduce belongs to functools, reduce takes function and sequence\n",
    "print(sum)\n"
   ]
  },
  {
   "cell_type": "code",
   "execution_count": 40,
   "id": "98a64706",
   "metadata": {},
   "outputs": [
    {
     "name": "stdout",
     "output_type": "stream",
     "text": [
      "56\n"
     ]
    }
   ],
   "source": [
    "#lets do the above code with lambda\n",
    "from functools import reduce\n",
    "\n",
    "nums = [3,2,6,8,4,6,2,9]\n",
    "\n",
    "evens = list(filter(lambda n:n%2==0,nums))\n",
    "\n",
    "doubles = list(map(lambda n: n*2,evens))  #map takes a function and an iterable. so we are using lambda function and evens as iterable\n",
    "\n",
    "sum = reduce(lambda a,b:a+b,doubles)       #reduce belongs to functools, reduce takes function and sequence\n",
    "print(sum)  # at one point it will take 2 values while adding, which is reduced here\n"
   ]
  },
  {
   "cell_type": "code",
   "execution_count": null,
   "id": "97c27bad",
   "metadata": {},
   "outputs": [],
   "source": []
  }
 ],
 "metadata": {
  "kernelspec": {
   "display_name": "Python 3",
   "language": "python",
   "name": "python3"
  },
  "language_info": {
   "codemirror_mode": {
    "name": "ipython",
    "version": 3
   },
   "file_extension": ".py",
   "mimetype": "text/x-python",
   "name": "python",
   "nbconvert_exporter": "python",
   "pygments_lexer": "ipython3",
   "version": "3.8.8"
  }
 },
 "nbformat": 4,
 "nbformat_minor": 5
}
